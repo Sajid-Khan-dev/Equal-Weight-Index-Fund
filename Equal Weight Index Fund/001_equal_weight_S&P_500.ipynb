{
 "cells": [
  {
   "cell_type": "markdown",
   "metadata": {},
   "source": [
    "# Equal-Weight Index Fund\n",
    "\n",
    "## 📌 Introduction & Library Imports\n",
    "The S&P 500 is the world's most followed stock market index. Instead of using the full set of 500 companies or relying on a paid data provider, this project focuses on creating an equal-weight version of the index using a subset of 200 S&P 500 companies, retrieved with the Finnhub API.\n",
    "\n",
    "The script calculates how many shares of each stock to purchase based on a user's total portfolio value, ensuring equal dollar allocation across the 200 selected companies.\n",
    "\n",
    "I begin by importing the essential libraries needed for data handling and API requests."
   ]
  },
  {
   "cell_type": "markdown",
   "metadata": {},
   "source": [
    "import numpy as np\n",
    "import pandas as pd\n",
    "import requests\n",
    "import xlsxwriter\n",
    "import math"
   ]
  },
  {
   "cell_type": "markdown",
   "metadata": {},
   "source": [
    "## 📥 Importing Our List of Stocks\n",
    "For this project, a static list of 200 selected companies from the S&P 500 has been used instead of the full index. The complete list of S&P 500 constituents changes periodically, but accessing it in real time via Standard & Poor’s requires a paid subscription, which was intentionally avoided.\n",
    "\n",
    "The selected 200 companies have been imported from a pre-prepared dataset placed in the project directory link -> http://localhost:8888/edit/starter_files/newSP.csv. This list serves as the foundation for building an equal-weight index fund simulation using live market data.\n",
    "\n",
    "All stock information, including price and market capitalization, was retrieved using the Finnhub API, which offers reliable and free access to real-time financial data."
   ]
  },
  {
   "cell_type": "code",
   "execution_count": 2,
   "metadata": {},
   "outputs": [
    {
     "data": {
      "text/html": [
       "<div>\n",
       "<style scoped>\n",
       "    .dataframe tbody tr th:only-of-type {\n",
       "        vertical-align: middle;\n",
       "    }\n",
       "\n",
       "    .dataframe tbody tr th {\n",
       "        vertical-align: top;\n",
       "    }\n",
       "\n",
       "    .dataframe thead th {\n",
       "        text-align: right;\n",
       "    }\n",
       "</style>\n",
       "<table border=\"1\" class=\"dataframe\">\n",
       "  <thead>\n",
       "    <tr style=\"text-align: right;\">\n",
       "      <th></th>\n",
       "      <th>Ticker</th>\n",
       "    </tr>\n",
       "  </thead>\n",
       "  <tbody>\n",
       "    <tr>\n",
       "      <th>0</th>\n",
       "      <td>A</td>\n",
       "    </tr>\n",
       "    <tr>\n",
       "      <th>1</th>\n",
       "      <td>AAL</td>\n",
       "    </tr>\n",
       "    <tr>\n",
       "      <th>2</th>\n",
       "      <td>AAP</td>\n",
       "    </tr>\n",
       "    <tr>\n",
       "      <th>3</th>\n",
       "      <td>AAPL</td>\n",
       "    </tr>\n",
       "    <tr>\n",
       "      <th>4</th>\n",
       "      <td>ABBV</td>\n",
       "    </tr>\n",
       "    <tr>\n",
       "      <th>...</th>\n",
       "      <td>...</td>\n",
       "    </tr>\n",
       "    <tr>\n",
       "      <th>193</th>\n",
       "      <td>HCA</td>\n",
       "    </tr>\n",
       "    <tr>\n",
       "      <th>194</th>\n",
       "      <td>HD</td>\n",
       "    </tr>\n",
       "    <tr>\n",
       "      <th>195</th>\n",
       "      <td>HES</td>\n",
       "    </tr>\n",
       "    <tr>\n",
       "      <th>196</th>\n",
       "      <td>HIG</td>\n",
       "    </tr>\n",
       "    <tr>\n",
       "      <th>197</th>\n",
       "      <td>HII</td>\n",
       "    </tr>\n",
       "  </tbody>\n",
       "</table>\n",
       "<p>198 rows × 1 columns</p>\n",
       "</div>"
      ],
      "text/plain": [
       "    Ticker\n",
       "0        A\n",
       "1      AAL\n",
       "2      AAP\n",
       "3     AAPL\n",
       "4     ABBV\n",
       "..     ...\n",
       "193    HCA\n",
       "194     HD\n",
       "195    HES\n",
       "196    HIG\n",
       "197    HII\n",
       "\n",
       "[198 rows x 1 columns]"
      ]
     },
     "execution_count": 2,
     "metadata": {},
     "output_type": "execute_result"
    }
   ],
   "source": [
    "stocks =pd.read_csv('newSP.csv')\n",
    "stocks"
   ]
  },
  {
   "cell_type": "markdown",
   "metadata": {},
   "source": [
    "## 🔐 Acquiring an API Token\n",
    "To access real-time stock data, I used the Finnhub API, which offers a generous free tier suitable for projects like this.\n",
    "\n",
    "In this project, I stored the API token directly in a variable for quick use. However, it can also be stored securely in a separate secrets.py file to keep credentials out of version control. That file would contain a single variable holding the API key and should be placed in the same directory as this notebook.\n",
    "\n",
    "To obtain the token, I registered at finnhub.io and used the key in the following format:"
   ]
  },
  {
   "cell_type": "code",
   "execution_count": 4,
   "metadata": {},
   "outputs": [],
   "source": [
    "api_key = 'd1h9n5hr01qsvr28qjbgd1h9n5hr01qsvr28qjc0'"
   ]
  },
  {
   "cell_type": "markdown",
   "metadata": {},
   "source": [
    "## 📡 Making My First API Call\n",
    "To retrieve live market data, I structured my API calls using the Finnhub API.\n",
    "\n",
    "For each stock, I needed two key pieces of information:\n",
    "\n",
    "Market Capitalization\n",
    "\n",
    "Current Stock Price\n",
    "\n",
    "I made separate GET requests to Finnhub’s /quote endpoint to get the stock price, and to /stock/profile2 to fetch the market capitalization and other company details. This setup allowed me to collect the data required for portfolio allocation across the 200 selected companies.\n"
   ]
  },
  {
   "cell_type": "code",
   "execution_count": 5,
   "metadata": {},
   "outputs": [],
   "source": [
    "symbol = 'AAP'\n",
    "\n",
    "url = f\"https://finnhub.io/api/v1/stock/profile2?symbol={symbol}&token={api_key}\"\n",
    "\n",
    "url2 = f\"https://finnhub.io/api/v1/quote?symbol={symbol}&token={api_key}\"\n",
    "\n",
    "data = requests.get(url).json()\n",
    "data2 = requests.get(url2).json()"
   ]
  },
  {
   "cell_type": "markdown",
   "metadata": {},
   "source": [
    "## 🧮 Parsing My API Call\n",
    "The API responses provided all the information I needed to build the equal-weight S&P 500 strategy. However, the data wasn’t immediately usable in its raw format. I had to extract and organize key fields such as the current stock price and market capitalization, from the JSON responses returned by Finnhub. This parsing step allowed me to structure the data into a clean format suitable for further calculations and analysis.\n"
   ]
  },
  {
   "cell_type": "code",
   "execution_count": 6,
   "metadata": {},
   "outputs": [
    {
     "name": "stdout",
     "output_type": "stream",
     "text": [
      "46.49\n",
      "2786.542013634399\n"
     ]
    }
   ],
   "source": [
    "price = data2['c']\n",
    "marketCap = data['marketCapitalization']\n",
    "NumberOfShares = 'N/A'\n",
    "print(price)\n",
    "print(marketCap)"
   ]
  },
  {
   "cell_type": "markdown",
   "metadata": {},
   "source": [
    "## 📊 Adding Stock Data to a Pandas DataFrame\n",
    "Once I had the stock price and market capitalization parsed from the API responses, I added them to a Pandas DataFrame. This allowed me to structure the data in a clean, tabular format similar to a spreadsheet. Using the DataFrame made it easy to manage, process, and eventually export the data for further use, such as calculating share allocations and generating the final Excel output."
   ]
  },
  {
   "cell_type": "code",
   "execution_count": 8,
   "metadata": {},
   "outputs": [
    {
     "data": {
      "text/html": [
       "<div>\n",
       "<style scoped>\n",
       "    .dataframe tbody tr th:only-of-type {\n",
       "        vertical-align: middle;\n",
       "    }\n",
       "\n",
       "    .dataframe tbody tr th {\n",
       "        vertical-align: top;\n",
       "    }\n",
       "\n",
       "    .dataframe thead th {\n",
       "        text-align: right;\n",
       "    }\n",
       "</style>\n",
       "<table border=\"1\" class=\"dataframe\">\n",
       "  <thead>\n",
       "    <tr style=\"text-align: right;\">\n",
       "      <th></th>\n",
       "      <th>Ticker</th>\n",
       "      <th>Stock Price</th>\n",
       "      <th>Market Capitalization</th>\n",
       "      <th>Number of Shares to Buy</th>\n",
       "    </tr>\n",
       "  </thead>\n",
       "  <tbody>\n",
       "  </tbody>\n",
       "</table>\n",
       "</div>"
      ],
      "text/plain": [
       "Empty DataFrame\n",
       "Columns: [Ticker, Stock Price, Market Capitalization, Number of Shares to Buy]\n",
       "Index: []"
      ]
     },
     "execution_count": 8,
     "metadata": {},
     "output_type": "execute_result"
    }
   ],
   "source": [
    "my_columns = ['Ticker', 'Stock Price','Market Capitalization', 'Number of Shares to Buy']\n",
    "final_dataframe =  pd.DataFrame(columns = my_columns)\n",
    "final_dataframe"
   ]
  },
  {
   "cell_type": "code",
   "execution_count": null,
   "metadata": {},
   "outputs": [],
   "source": [
    "new_row = pd.Series([symbol, price, marketCap, NumberOfShares], index=final_dataframe.columns)\n",
    "final_dataframe = pd.concat([final_dataframe, new_row.to_frame().T], ignore_index=True)\n",
    "final_dataframe"
   ]
  },
  {
   "cell_type": "markdown",
   "metadata": {},
   "source": [
    "## 🔁 Looping Through the Tickers in My Stock List\n",
    "Using the same logic I applied to a single stock, I looped through all 200 tickers in my list to fetch their data from the Finnhub API. For each symbol, I retrieved the stock price and market capitalization, then stored the results in my DataFrame. This approach allowed me to build a complete dataset with all the information needed to calculate equal-weight allocations across the selected companies."
   ]
  },
  {
   "cell_type": "code",
   "execution_count": 9,
   "metadata": {},
   "outputs": [],
   "source": [
    "final_dataframe = pd.DataFrame(columns = my_columns)\n",
    "for stock in stocks ['Ticker']:\n",
    "    url = f\"https://finnhub.io/api/v1/stock/profile2?symbol={stock}&token={api_key}\"\n",
    "    url2 = f\"https://finnhub.io/api/v1/quote?symbol={stock}&token={api_key}\"\n",
    "    data = requests.get(url).json()\n",
    "    data2 = requests.get(url2).json()\n",
    "    new_row = pd.Series([stock, data2['c'], data['marketCapitalization'], NumberOfShares], index=final_dataframe.columns)\n",
    "    final_dataframe = pd.concat([final_dataframe, new_row.to_frame().T], ignore_index=True)   "
   ]
  },
  {
   "cell_type": "markdown",
   "metadata": {},
   "source": [
    "## 🚨 Using Batch API Calls to Improve Performance (Important)\n",
    "Batch API calls are one of the most effective ways to improve performance in data-driven scripts, especially when working with large lists of stocks. Since HTTP requests can be time-consuming, batching them helps reduce the total number of API calls and speeds up data collection.\n",
    "\n",
    "Initially, I considered optimizing my script using batch API functionality, as some other providers allow multiple tickers to be requested in a single call—dramatically reducing the number of required requests.\n",
    "\n",
    "However, since I used the Finnhub API for this project, I wasn’t able to implement batching. Finnhub’s REST API currently doesn’t support batch requests for stock quotes or company profiles. As a result, I looped through each stock individually and made separate API calls for each ticker.\n",
    "\n",
    "Even so, the script runs efficiently and remains well within Finnhub’s free-tier rate limits."
   ]
  },
  {
   "cell_type": "code",
   "execution_count": 10,
   "metadata": {},
   "outputs": [
    {
     "data": {
      "text/html": [
       "<div>\n",
       "<style scoped>\n",
       "    .dataframe tbody tr th:only-of-type {\n",
       "        vertical-align: middle;\n",
       "    }\n",
       "\n",
       "    .dataframe tbody tr th {\n",
       "        vertical-align: top;\n",
       "    }\n",
       "\n",
       "    .dataframe thead th {\n",
       "        text-align: right;\n",
       "    }\n",
       "</style>\n",
       "<table border=\"1\" class=\"dataframe\">\n",
       "  <thead>\n",
       "    <tr style=\"text-align: right;\">\n",
       "      <th></th>\n",
       "      <th>Ticker</th>\n",
       "      <th>Stock Price</th>\n",
       "      <th>Market Capitalization</th>\n",
       "      <th>Number of Shares to Buy</th>\n",
       "    </tr>\n",
       "  </thead>\n",
       "  <tbody>\n",
       "    <tr>\n",
       "      <th>0</th>\n",
       "      <td>A</td>\n",
       "      <td>118.01</td>\n",
       "      <td>33851.993091</td>\n",
       "      <td>N/A</td>\n",
       "    </tr>\n",
       "    <tr>\n",
       "      <th>1</th>\n",
       "      <td>AAL</td>\n",
       "      <td>11.22</td>\n",
       "      <td>7439.299148</td>\n",
       "      <td>N/A</td>\n",
       "    </tr>\n",
       "    <tr>\n",
       "      <th>2</th>\n",
       "      <td>AAP</td>\n",
       "      <td>46.49</td>\n",
       "      <td>2786.542014</td>\n",
       "      <td>N/A</td>\n",
       "    </tr>\n",
       "    <tr>\n",
       "      <th>3</th>\n",
       "      <td>AAPL</td>\n",
       "      <td>205.17</td>\n",
       "      <td>3003295.926641</td>\n",
       "      <td>N/A</td>\n",
       "    </tr>\n",
       "    <tr>\n",
       "      <th>4</th>\n",
       "      <td>ABBV</td>\n",
       "      <td>185.62</td>\n",
       "      <td>322032.910987</td>\n",
       "      <td>N/A</td>\n",
       "    </tr>\n",
       "    <tr>\n",
       "      <th>...</th>\n",
       "      <td>...</td>\n",
       "      <td>...</td>\n",
       "      <td>...</td>\n",
       "      <td>...</td>\n",
       "    </tr>\n",
       "    <tr>\n",
       "      <th>193</th>\n",
       "      <td>HCA</td>\n",
       "      <td>383.1</td>\n",
       "      <td>91249.686303</td>\n",
       "      <td>N/A</td>\n",
       "    </tr>\n",
       "    <tr>\n",
       "      <th>194</th>\n",
       "      <td>HD</td>\n",
       "      <td>366.64</td>\n",
       "      <td>366869.742797</td>\n",
       "      <td>N/A</td>\n",
       "    </tr>\n",
       "    <tr>\n",
       "      <th>195</th>\n",
       "      <td>HES</td>\n",
       "      <td>138.54</td>\n",
       "      <td>42979.393071</td>\n",
       "      <td>N/A</td>\n",
       "    </tr>\n",
       "    <tr>\n",
       "      <th>196</th>\n",
       "      <td>HIG</td>\n",
       "      <td>126.87</td>\n",
       "      <td>35421.961037</td>\n",
       "      <td>N/A</td>\n",
       "    </tr>\n",
       "    <tr>\n",
       "      <th>197</th>\n",
       "      <td>HII</td>\n",
       "      <td>241.46</td>\n",
       "      <td>9364.418906</td>\n",
       "      <td>N/A</td>\n",
       "    </tr>\n",
       "  </tbody>\n",
       "</table>\n",
       "<p>198 rows × 4 columns</p>\n",
       "</div>"
      ],
      "text/plain": [
       "    Ticker Stock Price Market Capitalization Number of Shares to Buy\n",
       "0        A      118.01          33851.993091                     N/A\n",
       "1      AAL       11.22           7439.299148                     N/A\n",
       "2      AAP       46.49           2786.542014                     N/A\n",
       "3     AAPL      205.17        3003295.926641                     N/A\n",
       "4     ABBV      185.62         322032.910987                     N/A\n",
       "..     ...         ...                   ...                     ...\n",
       "193    HCA       383.1          91249.686303                     N/A\n",
       "194     HD      366.64         366869.742797                     N/A\n",
       "195    HES      138.54          42979.393071                     N/A\n",
       "196    HIG      126.87          35421.961037                     N/A\n",
       "197    HII      241.46           9364.418906                     N/A\n",
       "\n",
       "[198 rows x 4 columns]"
      ]
     },
     "execution_count": 10,
     "metadata": {},
     "output_type": "execute_result"
    }
   ],
   "source": [
    "final_dataframe"
   ]
  },
  {
   "cell_type": "code",
   "execution_count": null,
   "metadata": {},
   "outputs": [],
   "source": [
    "def chunks(lst, n):\n",
    "    for i in range (0, len(lst), n):\n",
    "        yield lst[i:i + n]"
   ]
  },
  {
   "cell_type": "code",
   "execution_count": null,
   "metadata": {},
   "outputs": [],
   "source": [
    "#We can't use batch in these url as Finnhub doesn't support multiple endpoints\n",
    "symbol_groups = list(chunks(stocks['Ticker'], 100))\n",
    "symbol_strings = []\n",
    "for i in range (0, len(symbol_groups):\n",
    "    symbol_strings.append(','.join(symbol_groups[i]))\n",
    "\n",
    "final_dataframe = pd.DataFrame(columns = my_columns)\n",
    "\n",
    "for symbol_string in symbol_strings:\n",
    "    batch_api_call_url = f\"\""
   ]
  },
  {
   "cell_type": "markdown",
   "metadata": {},
   "source": [
    "## 🧮 Calculating the Number of Shares to Buy\n",
    "At this point, the DataFrame contained the stock price and market capitalization for each company, but it didn’t yet include the number of shares to buy. To fix that, I calculated how many shares of each stock I could purchase by dividing an equal portion of the total portfolio value by the stock’s current price. This ensured an equal-weight allocation across all 200 companies in the portfolio."
   ]
  },
  {
   "cell_type": "code",
   "execution_count": 11,
   "metadata": {},
   "outputs": [
    {
     "name": "stdin",
     "output_type": "stream",
     "text": [
      "Enter the value of your portfolio 1000000\n"
     ]
    },
    {
     "name": "stdout",
     "output_type": "stream",
     "text": [
      "1000000.0\n"
     ]
    }
   ],
   "source": [
    "portfolio_size =input('Enter the value of your portfolio')\n",
    "try:\n",
    "    val = float(portfolio_size)\n",
    "    print (val)\n",
    "except ValueError:\n",
    "    print(\"Please enter an integer \\n\")\n",
    "    portfolio_size =input('Enter the value of your portfolio')\n",
    "    val = float(portfolio_size)"
   ]
  },
  {
   "cell_type": "code",
   "execution_count": 12,
   "metadata": {},
   "outputs": [
    {
     "name": "stdout",
     "output_type": "stream",
     "text": [
      "    Ticker Stock Price Market Capitalization Number of Shares to Buy\n",
      "0        A      118.01          33851.993091                      42\n",
      "1      AAL       11.22           7439.299148                     450\n",
      "2      AAP       46.49           2786.542014                     108\n",
      "3     AAPL      205.17        3003295.926641                      24\n",
      "4     ABBV      185.62         322032.910987                      27\n",
      "..     ...         ...                   ...                     ...\n",
      "193    HCA       383.1          91249.686303                      13\n",
      "194     HD      366.64         366869.742797                      13\n",
      "195    HES      138.54          42979.393071                      36\n",
      "196    HIG      126.87          35421.961037                      39\n",
      "197    HII      241.46           9364.418906                      20\n",
      "\n",
      "[198 rows x 4 columns]\n"
     ]
    }
   ],
   "source": [
    "position_size = val/len(final_dataframe.index)\n",
    "for i in range (0, len(final_dataframe.index)):\n",
    "    final_dataframe.loc[i, 'Number of Shares to Buy'] = math.floor(position_size/ final_dataframe.loc[i, 'Stock Price'])\n",
    "print (final_dataframe)\n",
    "#number_of_apple_shares = position_size/12\n",
    "#print(math.floor(number_of_apple_shares))"
   ]
  },
  {
   "cell_type": "raw",
   "metadata": {},
   "source": [
    "\n",
    "\n",
    "\n",
    "# 📁 Formatting My Excel Output\n",
    "To create a clean and professional-looking Excel file, I used the XlsxWriter library through Pandas’ ExcelWriter interface. XlsxWriter provides a lot of flexibility for formatting, and it worked well for customizing the appearance of the final spreadsheet.\n",
    "\n",
    "Although the library offers extensive options, I kept my implementation straightforward by defining a few reusable formats and applying them to the relevant columns.\n",
    "\n",
    "### Initializing our XlsxWriter Object"
   ]
  },
  {
   "cell_type": "code",
   "execution_count": 13,
   "metadata": {},
   "outputs": [
    {
     "name": "stderr",
     "output_type": "stream",
     "text": [
      "C:\\Users\\sajid\\AppData\\Local\\Temp\\ipykernel_12832\\3142007780.py:2: FutureWarning: Starting with pandas version 3.0 all arguments of to_excel except for the argument 'excel_writer' will be keyword-only.\n",
      "  final_dataframe.to_excel(writer,'Recommended Trades', index= False)\n"
     ]
    }
   ],
   "source": [
    "writer = pd.ExcelWriter('recommended trades.xlsx', engine='xlsxwriter')\n",
    "final_dataframe.to_excel(writer,'Recommended Trades', index= False)"
   ]
  },
  {
   "cell_type": "markdown",
   "metadata": {},
   "source": [
    "### Creating the Formats I Used for the .xlsx File\n",
    "To make the Excel output more readable and professional, I defined a few custom formats using XlsxWriter. These formats handled fonts, alignment, and number styles like currency and integers. I created four main formats for the final Excel document:\n",
    "\n",
    "A string format for the stock tickers\n",
    "\n",
    "A dollar format ($XX.XX) for stock prices\n",
    "\n",
    "A dollar format with commas ($XX,XXX) for market capitalization\n",
    "\n",
    "An integer format for the number of shares to purchase\n",
    "\n",
    "These formats made the spreadsheet visually cleaner and easier to understand at a glance."
   ]
  },
  {
   "cell_type": "code",
   "execution_count": 14,
   "metadata": {},
   "outputs": [],
   "source": [
    "background_color = '#0a0a23'\n",
    "font_color= '#ffffff'\n",
    "\n",
    "string_format = writer.book.add_format({\n",
    "    'font_color': font_color,\n",
    "    'bg_color': background_color,\n",
    "    'border': 1\n",
    "})\n",
    "dollar_format = writer.book.add_format({\n",
    "    'num_format': '$0.00',\n",
    "    'font_color': font_color,\n",
    "    'bg_color': background_color,\n",
    "    'border': 1\n",
    "})\n",
    "integer_format = writer.book.add_format({\n",
    "    'num_format': '0',\n",
    "    'font_color': font_color,\n",
    "    'bg_color': background_color,\n",
    "    'border': 1\n",
    "})"
   ]
  },
  {
   "cell_type": "markdown",
   "metadata": {},
   "source": [
    "### Applying the Formats to the Columns of Our `.xlsx` File\n",
    "\n",
    "We can use the `set_column` method applied to the `writer.sheets['Recommended Trades']` object to apply formats to specific columns of our spreadsheets."
   ]
  },
  {
   "cell_type": "code",
   "execution_count": null,
   "metadata": {},
   "outputs": [],
   "source": [
    "#writer.sheets['Recommended Trades'].set_column('A:A', 18, string_format)\n",
    "#writer.sheets['Recommended Trades'].set_column('B:B', 18, string_format)\n",
    "#writer.sheets['Recommended Trades'].set_column('C:C', 18, string_format)\n",
    "#writer.sheets['Recommended Trades'].set_column('D:D', 18, string_format)\n",
    "#writer.close()\n",
    "\n",
    "writer.sheets['Recommended Trades'].write('A1', 'Ticker', string_format)\n",
    "writer.sheets['Recommended Trades'].write('B1', 'Stock Price', dollar_format)\n",
    "writer.sheets['Recommended Trades'].write('C1', 'Market Capitalization', dollar_format)\n",
    "writer.sheets['Recommended Trades'].write('D1', 'Number of Shares to Buy', integer_format)"
   ]
  },
  {
   "cell_type": "markdown",
   "metadata": {},
   "source": [
    "This code works, but it violates the software principle of \"Don't Repeat Yourself\". \n",
    "\n",
    "Let's simplify this by putting it in 2 loops:"
   ]
  },
  {
   "cell_type": "code",
   "execution_count": 16,
   "metadata": {},
   "outputs": [],
   "source": [
    "column_formats = {\n",
    "    'A':['Ticker', string_format],\n",
    "    'B':['Stock Price', dollar_format],\n",
    "    'C':['Market Capitalization', dollar_format],\n",
    "    'D':['Number of Shares to Buy', integer_format] \n",
    "}\n",
    "\n",
    "for column in column_formats.keys():\n",
    "    writer.sheets['Recommended Trades'].set_column(f\"{column}:{column}\", 18, column_formats[column][1])\n",
    "    writer.sheets['Recommended Trades'].write(f'{column}1', column_formats[column][0], column_formats[column][1])"
   ]
  },
  {
   "cell_type": "markdown",
   "metadata": {},
   "source": [
    "## Saving Our Excel Output\n",
    "\n",
    "Saving our Excel file is very easy:"
   ]
  },
  {
   "cell_type": "code",
   "execution_count": 18,
   "metadata": {},
   "outputs": [],
   "source": [
    "writer.close()"
   ]
  }
 ],
 "metadata": {
  "kernelspec": {
   "display_name": "Python 3 (ipykernel)",
   "language": "python",
   "name": "python3"
  },
  "language_info": {
   "codemirror_mode": {
    "name": "ipython",
    "version": 3
   },
   "file_extension": ".py",
   "mimetype": "text/x-python",
   "name": "python",
   "nbconvert_exporter": "python",
   "pygments_lexer": "ipython3",
   "version": "3.13.5"
  }
 },
 "nbformat": 4,
 "nbformat_minor": 4
}
